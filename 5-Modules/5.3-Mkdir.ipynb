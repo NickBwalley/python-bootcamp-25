{
 "cells": [
  {
   "cell_type": "markdown",
   "metadata": {},
   "source": [
    "#### This function is used to create a new directory in the root directory of the project"
   ]
  },
  {
   "cell_type": "code",
   "execution_count": 7,
   "metadata": {},
   "outputs": [
    {
     "name": "stdout",
     "output_type": "stream",
     "text": [
      "Folder '6-File-Handling' already exists at d:\\python-bootcamp-25\\5-Modules\\6-File-Handling\n"
     ]
    }
   ],
   "source": [
    "import os\n",
    "\n",
    "def create_new_dir():\n",
    "    # Get the directory where the script is being run\n",
    "    root_dir = os.getcwd()  # Gets the current working directory\n",
    "    dir_name = \"6-File-Handling\"\n",
    "\n",
    "    # Define the new folder path\n",
    "    new_folder_path = os.path.join(root_dir, dir_name)\n",
    "\n",
    "    # Create the new folder if it doesn't exist\n",
    "    if not os.path.exists(new_folder_path):\n",
    "        os.mkdir(new_folder_path)\n",
    "        print(f\"Folder '{dir_name}'' created successfully at {new_folder_path}\")\n",
    "    else:\n",
    "        print(f\"Folder '{dir_name}' already exists at {new_folder_path}\")\n",
    "\n",
    "create_new_dir()"
   ]
  },
  {
   "cell_type": "code",
   "execution_count": null,
   "metadata": {},
   "outputs": [],
   "source": []
  }
 ],
 "metadata": {
  "kernelspec": {
   "display_name": "Python 3",
   "language": "python",
   "name": "python3"
  },
  "language_info": {
   "codemirror_mode": {
    "name": "ipython",
    "version": 3
   },
   "file_extension": ".py",
   "mimetype": "text/x-python",
   "name": "python",
   "nbconvert_exporter": "python",
   "pygments_lexer": "ipython3",
   "version": "3.12.0"
  }
 },
 "nbformat": 4,
 "nbformat_minor": 2
}
