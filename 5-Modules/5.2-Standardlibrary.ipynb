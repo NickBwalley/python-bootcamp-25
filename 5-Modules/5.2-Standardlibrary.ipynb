{
 "cells": [
  {
   "cell_type": "markdown",
   "metadata": {},
   "source": [
    "##### Standard Library Overview\n",
    "Python's Standard Library is a vast collection of modules and packages that come bundled with Python, providing a wide range of functionalities out of the box. Here's an overview of some of the most commonly used modules and packages in the Python Standard Library."
   ]
  },
  {
   "cell_type": "code",
   "execution_count": 1,
   "metadata": {},
   "outputs": [
    {
     "name": "stdout",
     "output_type": "stream",
     "text": [
      "array('i', [1, 2, 3, 4])\n"
     ]
    }
   ],
   "source": [
    "import array\n",
    "arr=array.array('i',[1,2,3,4])\n",
    "print(arr)"
   ]
  },
  {
   "cell_type": "code",
   "execution_count": 2,
   "metadata": {},
   "outputs": [
    {
     "name": "stdout",
     "output_type": "stream",
     "text": [
      "4.0\n",
      "3.141592653589793\n"
     ]
    }
   ],
   "source": [
    "import math\n",
    "print(math.sqrt(16))\n",
    "print(math.pi)"
   ]
  },
  {
   "cell_type": "code",
   "execution_count": 6,
   "metadata": {},
   "outputs": [
    {
     "name": "stdout",
     "output_type": "stream",
     "text": [
      "2\n",
      "cherry\n"
     ]
    }
   ],
   "source": [
    "## random \n",
    "\n",
    "import random\n",
    "print(random.randint(1,10))\n",
    "print(random.choice(['apple','banana','cherry']))"
   ]
  },
  {
   "cell_type": "code",
   "execution_count": 1,
   "metadata": {},
   "outputs": [
    {
     "name": "stdout",
     "output_type": "stream",
     "text": [
      "d:\\python-bootcamp-25\\5-Modules\n"
     ]
    }
   ],
   "source": [
    "### File And Directory Access\n",
    "\n",
    "import os\n",
    "print(os.getcwd())"
   ]
  },
  {
   "cell_type": "markdown",
   "metadata": {},
   "source": [
    "#### Creating a directory"
   ]
  },
  {
   "cell_type": "code",
   "execution_count": 3,
   "metadata": {},
   "outputs": [],
   "source": [
    "os.mkdir('test_dir')"
   ]
  },
  {
   "cell_type": "markdown",
   "metadata": {},
   "source": [
    "#### Creating a new file inside a directory"
   ]
  },
  {
   "cell_type": "code",
   "execution_count": 4,
   "metadata": {},
   "outputs": [],
   "source": [
    "import os\n",
    "\n",
    "# Create the directory if it doesn't exist\n",
    "directory = \"test_dir\"\n",
    "if not os.path.exists(directory):\n",
    "    os.mkdir(directory)\n",
    "\n",
    "# Create a file inside the directory\n",
    "file_path = os.path.join(directory, \"example.txt\")\n",
    "with open(file_path, \"w\") as file:\n",
    "    file.write(\"This is a test file.\")  # Writing some content\n"
   ]
  },
  {
   "cell_type": "code",
   "execution_count": 9,
   "metadata": {},
   "outputs": [
    {
     "data": {
      "text/plain": [
       "'destination.txt'"
      ]
     },
     "execution_count": 9,
     "metadata": {},
     "output_type": "execute_result"
    }
   ],
   "source": [
    "## High level operations on files and collection of files\n",
    "import shutil\n",
    "shutil.copyfile('source.txt','destination.txt')"
   ]
  },
  {
   "cell_type": "markdown",
   "metadata": {},
   "source": [
    "#### Data Serialization"
   ]
  },
  {
   "cell_type": "markdown",
   "metadata": {},
   "source": [
    "#### **json.dumps()** — Serialize (Convert Python object → JSON String)\n",
    "dumps stands for \"dump string.\"\n",
    "- It converts a Python object (like a dictionary, list, etc.) into a JSON string.\n",
    "- Commonly used when you need to send data to a web API, write JSON data to a file, or store JSON data as text.\n",
    "- Example using json.dumps()"
   ]
  },
  {
   "cell_type": "code",
   "execution_count": 1,
   "metadata": {},
   "outputs": [
    {
     "name": "stdout",
     "output_type": "stream",
     "text": [
      "{\n",
      "    \"name\": \"Nick\",\n",
      "    \"age\": 25,\n",
      "    \"skills\": [\n",
      "        \"Python\",\n",
      "        \"JavaScript\"\n",
      "    ],\n",
      "    \"is_employed\": true\n",
      "}\n"
     ]
    }
   ],
   "source": [
    "import json\n",
    "\n",
    "# Python dictionary\n",
    "data = {\n",
    "    \"name\": \"Nick\",\n",
    "    \"age\": 25,\n",
    "    \"skills\": [\"Python\", \"JavaScript\"],\n",
    "    \"is_employed\": True\n",
    "}\n",
    "\n",
    "# Convert Python object to JSON string\n",
    "json_string = json.dumps(data, indent=4)\n",
    "print(json_string)\n"
   ]
  },
  {
   "cell_type": "markdown",
   "metadata": {},
   "source": [
    "Key Points for json.dumps()\n",
    "- Converts Python objects → JSON string.\n",
    "- Use the indent parameter for pretty formatting.\n",
    "- Handles various data types: dict, list, tuple, str, int, float, bool, and None."
   ]
  },
  {
   "cell_type": "markdown",
   "metadata": {},
   "source": [
    "#### **json.loads()** — Deserialize (Convert JSON String → Python Object)\n",
    "- loads stands for \"load string.\"\n",
    "- It converts a JSON string into a Python object (like a dictionary or list).\n",
    "- Commonly used when you need to read JSON data from an API, parse JSON from a file, or manipulate JSON data in Python.\n",
    "- Example using json.loads()"
   ]
  },
  {
   "cell_type": "code",
   "execution_count": 2,
   "metadata": {},
   "outputs": [
    {
     "name": "stdout",
     "output_type": "stream",
     "text": [
      "{'name': 'Nick', 'age': 25, 'skills': ['Python', 'JavaScript'], 'is_employed': True}\n",
      "Name: Nick\n",
      "Skills: ['Python', 'JavaScript']\n",
      "Employed: True\n"
     ]
    }
   ],
   "source": [
    "import json\n",
    "\n",
    "# JSON string\n",
    "json_string = '{\"name\": \"Nick\", \"age\": 25, \"skills\": [\"Python\", \"JavaScript\"], \"is_employed\": true}'\n",
    "\n",
    "# Convert JSON string to Python object (dict)\n",
    "python_data = json.loads(json_string)\n",
    "print(python_data)\n",
    "print(f\"Name: {python_data['name']}\")\n",
    "print(f\"Skills: {python_data['skills']}\")\n",
    "print(f\"Employed: {python_data['is_employed']}\")"
   ]
  },
  {
   "cell_type": "markdown",
   "metadata": {},
   "source": [
    "Key Points for json.loads()\n",
    "- Converts JSON string → Python object.\n",
    "- The resulting object is typically a dictionary or list.\n",
    "- Useful when handling JSON data fetched from APIs or loaded from files."
   ]
  },
  {
   "cell_type": "code",
   "execution_count": 11,
   "metadata": {},
   "outputs": [
    {
     "name": "stdout",
     "output_type": "stream",
     "text": [
      "['name', 'age']\n",
      "['Krish', '32']\n"
     ]
    }
   ],
   "source": [
    "## csv\n",
    "\n",
    "import csv\n",
    "\n",
    "with open('example.csv',mode='w',newline='') as file:\n",
    "    writer=csv.writer(file)\n",
    "    writer.writerow(['name','age'])\n",
    "    writer.writerow(['Krish',32])\n",
    "\n",
    "with open('example.csv',mode='r') as file:\n",
    "    reader=csv.reader(file)\n",
    "    for row in reader:\n",
    "        print(row)"
   ]
  },
  {
   "cell_type": "code",
   "execution_count": 4,
   "metadata": {},
   "outputs": [
    {
     "name": "stdout",
     "output_type": "stream",
     "text": [
      "2025-03-09 21:32:49.123028\n",
      "2025-03-08 21:32:49.123028\n"
     ]
    }
   ],
   "source": [
    "## datetime\n",
    "from datetime import datetime,timedelta\n",
    "\n",
    "now=datetime.now()\n",
    "print(now)\n",
    "\n",
    "yesterday=now-timedelta(days=1)\n",
    "\n",
    "print(yesterday)"
   ]
  },
  {
   "cell_type": "code",
   "execution_count": 5,
   "metadata": {},
   "outputs": [
    {
     "name": "stdout",
     "output_type": "stream",
     "text": [
      "1741545182.464971\n",
      "1741545184.4683993\n"
     ]
    }
   ],
   "source": [
    "## time\n",
    "import time\n",
    "print(time.time())\n",
    "time.sleep(2)\n",
    "print(time.time())"
   ]
  },
  {
   "cell_type": "code",
   "execution_count": 15,
   "metadata": {},
   "outputs": [
    {
     "name": "stdout",
     "output_type": "stream",
     "text": [
      "123\n"
     ]
    }
   ],
   "source": [
    "## Regular expresiion\n",
    "import re\n",
    "\n",
    "pattern=r'\\d+'\n",
    "text='There are 123 apples 456'\n",
    "match=re.search(pattern,text)\n",
    "print(match.group())"
   ]
  },
  {
   "cell_type": "markdown",
   "metadata": {},
   "source": [
    "#### Conclusion\n",
    "Python's Standard Library is extensive and provides tools for almost any task you can think of, from file handling to web services, from data serialization to concurrent execution. Familiarizing yourself with the modules and packages available in the Standard Library can significantly enhance your ability to write efficient and effective Python programs."
   ]
  },
  {
   "cell_type": "code",
   "execution_count": null,
   "metadata": {},
   "outputs": [],
   "source": []
  }
 ],
 "metadata": {
  "kernelspec": {
   "display_name": "Python 3",
   "language": "python",
   "name": "python3"
  },
  "language_info": {
   "codemirror_mode": {
    "name": "ipython",
    "version": 3
   },
   "file_extension": ".py",
   "mimetype": "text/x-python",
   "name": "python",
   "nbconvert_exporter": "python",
   "pygments_lexer": "ipython3",
   "version": "3.12.0"
  }
 },
 "nbformat": 4,
 "nbformat_minor": 2
}
