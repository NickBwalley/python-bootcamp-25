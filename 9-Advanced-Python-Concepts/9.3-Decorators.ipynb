{
 "cells": [
  {
   "cell_type": "markdown",
   "metadata": {},
   "source": [
    "## 3. Decorators in Python\n",
    "* What is a Decorator?\n",
    "* A `decorator` is a `function` that `modifies or enhances another function` `without changing its structure`. \n",
    "* Decorators are often used to add functionality like logging, authentication, timing, etc.\n",
    "\n",
    "* How Decorators Work:\n",
    "- Decorators use the `@` symbol `followed` by the `decorator name`.\n",
    "They wrap another function inside themselves."
   ]
  },
  {
   "cell_type": "markdown",
   "metadata": {},
   "source": [
    "#### 3.1. Basic Decorator (Simplified Example)\n",
    "* 🧾 Scenario: Logging When a Function is Called\n",
    "* Imagine you run a bakery, and every time an order is processed, you want to log the event automatically. \n",
    "* A decorator can help achieve this without modifying your original function.\n",
    "\n",
    "Code Example:"
   ]
  },
  {
   "cell_type": "code",
   "execution_count": 4,
   "metadata": {},
   "outputs": [
    {
     "name": "stdout",
     "output_type": "stream",
     "text": [
      "📝 Order is being processed...\n",
      "🎂 Baking a delicious cake...\n",
      "✅ Order completed successfully!\n"
     ]
    }
   ],
   "source": [
    "def log_order(func):\n",
    "    def wrapper():\n",
    "        print(\"📝 Order is being processed...\")\n",
    "        func()\n",
    "        print(\"✅ Order completed successfully!\")\n",
    "    return wrapper\n",
    "\n",
    "@log_order\n",
    "def make_cake():\n",
    "    print(\"🎂 Baking a delicious cake...\")\n",
    "\n",
    "make_cake()\n"
   ]
  },
  {
   "cell_type": "markdown",
   "metadata": {},
   "source": [
    "#### 3.2. Decorator with Arguments (Simplified Example)\n",
    "🧾 * Scenario: Sending Multiple Reminders\n",
    "* Suppose you have a reminder app that sends the same reminder multiple times. \n",
    "* A decorator can automate the repetition."
   ]
  },
  {
   "cell_type": "code",
   "execution_count": 5,
   "metadata": {},
   "outputs": [
    {
     "name": "stdout",
     "output_type": "stream",
     "text": [
      "📩 Reminder: Nick, don't forget to attend the meeting!\n",
      "📩 Reminder: Nick, don't forget to attend the meeting!\n",
      "📩 Reminder: Nick, don't forget to attend the meeting!\n"
     ]
    }
   ],
   "source": [
    "def repeat(n):\n",
    "    def decorator(func):\n",
    "        def wrapper(*args, **kwargs):\n",
    "            for _ in range(n):\n",
    "                func(*args, **kwargs)\n",
    "        return wrapper\n",
    "    return decorator\n",
    "\n",
    "@repeat(3)\n",
    "def send_reminder(name):\n",
    "    print(f\"📩 Reminder: {name}, don't forget to attend the meeting!\")\n",
    "\n",
    "send_reminder(\"Nick\")\n"
   ]
  },
  {
   "cell_type": "markdown",
   "metadata": {},
   "source": [
    "- Explanation:\n",
    "* repeat(n) is a decorator factory (a decorator that accepts arguments).\n",
    "* Inside the factory, the wrapper() function calls the original function n times.\n",
    "* @repeat(3) ensures send_reminder() is executed 3 times."
   ]
  },
  {
   "cell_type": "markdown",
   "metadata": {},
   "source": [
    "#### 3.3 Using functools.wraps (Preserving Metadata)\n",
    "* 🧾 Scenario: Tracking Which Function is Running\n",
    "* In some cases, when you use decorators, the function's identity (like its name and docstring) can get lost. functools.wraps helps preserve this information.\n",
    "* Code Example:"
   ]
  },
  {
   "cell_type": "code",
   "execution_count": 6,
   "metadata": {},
   "outputs": [
    {
     "name": "stdout",
     "output_type": "stream",
     "text": [
      "🔍 Tracking: Calling bake_bread\n",
      "🍞 Baking fresh bread...\n",
      "None\n",
      "bake_bread\n",
      "This function bakes bread.\n"
     ]
    }
   ],
   "source": [
    "from functools import wraps\n",
    "\n",
    "def log_function_call(func):\n",
    "    @wraps(func)  # Preserves original function metadata\n",
    "    def wrapper(*args, **kwargs):\n",
    "        print(f\"🔍 Tracking: Calling {func.__name__}\")\n",
    "        return func(*args, **kwargs)\n",
    "    return wrapper\n",
    "\n",
    "@log_function_call\n",
    "def bake_bread():\n",
    "    \"\"\"This function bakes bread.\"\"\"\n",
    "    print(\"🍞 Baking fresh bread...\")\n",
    "\n",
    "print(bake_bread())     # Tracks the function call\n",
    "print(bake_bread.__name__)  # Outputs: bake_bread (not wrapper)\n",
    "print(bake_bread.__doc__)   # Outputs: \"This function bakes bread.\"\n"
   ]
  },
  {
   "cell_type": "markdown",
   "metadata": {},
   "source": [
    "* Explanation:\n",
    "- The `@wraps` decorator ensures that bake_bread retains its name and docstring.\n",
    "- Without `@wraps`, the function would incorrectly appear as wrapper."
   ]
  },
  {
   "cell_type": "markdown",
   "metadata": {},
   "source": [
    "#### Key Takeaways\n",
    "* ✅ Use a basic decorator for adding common functionality like logging.\n",
    "* ✅ Use a decorator with arguments for flexible behavior like repeating tasks.\n",
    "* ✅ Use functools.wraps to ensure your decorated function retains its original identity and documentation."
   ]
  },
  {
   "cell_type": "markdown",
   "metadata": {},
   "source": [
    "## 4. Closure functions in python\n",
    "- A closure occurs when: \n",
    "* ✅ There’s a nested function (function inside another function).\n",
    "* ✅ The inner function references a variable from the outer function.\n",
    "* ✅ The outer function returns the inner function itself.\n",
    "\n",
    "#### `Why Use Closures`?\n",
    "- Closures are powerful because they allow functions to remember their environment. They are often used in scenarios like:\n",
    "- Data hiding\n",
    "- Implementing decorators\n",
    "- Maintaining state without using global variables\n",
    "\n",
    "#### Example of a Closure (Real-life Scenario)\n",
    "* 🧾 Scenario: Creating a Personalized Greeting System\n",
    "* Suppose you run a café and want to generate personalized greeting messages for your customers. A closure can store the café’s name and generate greetings dynamically.\n",
    "* Code Example:\n"
   ]
  },
  {
   "cell_type": "code",
   "execution_count": 7,
   "metadata": {},
   "outputs": [
    {
     "name": "stdout",
     "output_type": "stream",
     "text": [
      "☕ Welcome to Starbucks, Nick! Enjoy your visit.\n",
      "☕ Welcome to Costa Coffee, Tamara! Enjoy your visit.\n"
     ]
    }
   ],
   "source": [
    "def cafe_greeting(cafe_name):\n",
    "    def greet_customer(customer_name):\n",
    "        return f\"☕ Welcome to {cafe_name}, {customer_name}! Enjoy your visit.\"\n",
    "    return greet_customer\n",
    "\n",
    "# Creating closures for two different cafés\n",
    "greet_at_starbucks = cafe_greeting(\"Starbucks\")\n",
    "greet_at_costa = cafe_greeting(\"Costa Coffee\")\n",
    "\n",
    "print(greet_at_starbucks(\"Nick\"))   # ☕ Welcome to Starbucks, Nick! Enjoy your visit.\n",
    "print(greet_at_costa(\"Tamara\"))     # ☕ Welcome to Costa Coffee, Tamara! Enjoy your visit.\n"
   ]
  },
  {
   "cell_type": "markdown",
   "metadata": {},
   "source": [
    "#### Explanation:\n",
    "* The outer function cafe_greeting() takes cafe_name as an argument.\n",
    "* The inner function greet_customer() references cafe_name even though it’s not directly passed as an argument to it.\n",
    "* When cafe_greeting() is called, it returns the inner function — creating a closure.\n",
    "* Each closure keeps its own reference to the cafe_name value."
   ]
  },
  {
   "cell_type": "markdown",
   "metadata": {},
   "source": [
    "### 4.1 Closure for Data Hiding (Encapsulation Concept)\n",
    "* `Closures` are also handy when you want to hide certain data but still allow controlled access.\n",
    "\n",
    "* 🧾 Scenario: Bank Account with Balance Tracking\n",
    "* Code Example:"
   ]
  },
  {
   "cell_type": "code",
   "execution_count": 8,
   "metadata": {},
   "outputs": [
    {
     "name": "stdout",
     "output_type": "stream",
     "text": [
      "✅ Deposited $50. 💰 Current Balance: $150\n",
      "💸 Withdrawn $30. 💰 Current Balance: $120\n",
      "💰 Current Balance: $120\n"
     ]
    }
   ],
   "source": [
    "def bank_account(initial_balance):\n",
    "    balance = initial_balance  # Private variable (accessible only inside closure)\n",
    "\n",
    "    def get_balance():\n",
    "        return f\"💰 Current Balance: ${balance}\"\n",
    "\n",
    "    def deposit(amount):\n",
    "        nonlocal balance\n",
    "        balance += amount\n",
    "        return f\"✅ Deposited ${amount}. {get_balance()}\"\n",
    "\n",
    "    def withdraw(amount):\n",
    "        nonlocal balance\n",
    "        if amount > balance:\n",
    "            return \"❌ Insufficient funds!\"\n",
    "        balance -= amount\n",
    "        return f\"💸 Withdrawn ${amount}. {get_balance()}\"\n",
    "\n",
    "    return get_balance, deposit, withdraw\n",
    "\n",
    "# Creating a new bank account\n",
    "check_balance, add_money, spend_money = bank_account(100)\n",
    "\n",
    "print(add_money(50))   # ✅ Deposited $50. 💰 Current Balance: $150\n",
    "print(spend_money(30)) # 💸 Withdrawn $30. 💰 Current Balance: $120\n",
    "print(check_balance()) # 💰 Current Balance: $120\n"
   ]
  },
  {
   "cell_type": "code",
   "execution_count": 18,
   "metadata": {},
   "outputs": [
    {
     "data": {
      "text/plain": [
       "'Welcome to the advanced python course'"
      ]
     },
     "execution_count": 18,
     "metadata": {},
     "output_type": "execute_result"
    }
   ],
   "source": [
    "## function copy\n",
    "def welcome():\n",
    "    return \"Welcome to the advanced python course\"\n",
    "\n",
    "welcome()"
   ]
  },
  {
   "cell_type": "code",
   "execution_count": 19,
   "metadata": {},
   "outputs": [
    {
     "name": "stdout",
     "output_type": "stream",
     "text": [
      "Welcome to the advanced python course\n",
      "Welcome to the advanced python course\n"
     ]
    }
   ],
   "source": [
    "wel=welcome\n",
    "print(wel())\n",
    "del welcome\n",
    "print(wel())"
   ]
  },
  {
   "cell_type": "code",
   "execution_count": null,
   "metadata": {},
   "outputs": [],
   "source": [
    "##closures functions\n",
    "\n",
    "def main_welcome(msg):\n",
    "   \n",
    "    def sub_welcome_method():\n",
    "        print(\"Welcome to the advance python course\")\n",
    "        print(msg)\n",
    "        print(\"Please learn these concepts properly\")\n",
    "    return sub_welcome_method()"
   ]
  },
  {
   "cell_type": "code",
   "execution_count": 27,
   "metadata": {},
   "outputs": [
    {
     "name": "stdout",
     "output_type": "stream",
     "text": [
      "Welcome to the advance python course\n",
      "Welcome everyone\n",
      "Please learn these concepts properly\n"
     ]
    }
   ],
   "source": [
    "main_welcome(\"Welcome everyone\")"
   ]
  },
  {
   "cell_type": "code",
   "execution_count": 30,
   "metadata": {},
   "outputs": [],
   "source": [
    "def main_welcome(func):\n",
    "   \n",
    "    def sub_welcome_method():\n",
    "        print(\"Welcome to the advance python course\")\n",
    "        func(\"Welcome everyone to this tutorial\")\n",
    "        print(\"Please learn these concepts properly\")\n",
    "    return sub_welcome_method()"
   ]
  },
  {
   "cell_type": "code",
   "execution_count": 31,
   "metadata": {},
   "outputs": [
    {
     "name": "stdout",
     "output_type": "stream",
     "text": [
      "Welcome to the advance python course\n",
      "Welcome everyone to this tutorial\n",
      "Please learn these concepts properly\n"
     ]
    }
   ],
   "source": [
    "main_welcome(print)"
   ]
  },
  {
   "cell_type": "code",
   "execution_count": 36,
   "metadata": {},
   "outputs": [],
   "source": [
    "def main_welcome(func,lst):\n",
    "   \n",
    "    def sub_welcome_method():\n",
    "        print(\"Welcome to the advance python course\")\n",
    "        print(func(lst))\n",
    "        print(\"Please learn these concepts properly\")\n",
    "    return sub_welcome_method()"
   ]
  },
  {
   "cell_type": "code",
   "execution_count": 37,
   "metadata": {},
   "outputs": [
    {
     "name": "stdout",
     "output_type": "stream",
     "text": [
      "Welcome to the advance python course\n",
      "5\n",
      "Please learn these concepts properly\n"
     ]
    }
   ],
   "source": [
    "main_welcome(len,[1,2,3,4,5])"
   ]
  },
  {
   "cell_type": "code",
   "execution_count": 34,
   "metadata": {},
   "outputs": [
    {
     "data": {
      "text/plain": [
       "6"
      ]
     },
     "execution_count": 34,
     "metadata": {},
     "output_type": "execute_result"
    }
   ],
   "source": [
    "len([1,2,3,4,5,6])"
   ]
  },
  {
   "cell_type": "code",
   "execution_count": 38,
   "metadata": {},
   "outputs": [],
   "source": [
    "### Decorator\n",
    "def main_welcome(func):\n",
    "   \n",
    "    def sub_welcome_method():\n",
    "        print(\"Welcome to the advance python course\")\n",
    "        func()\n",
    "        print(\"Please learn these concepts properly\")\n",
    "    return sub_welcome_method()"
   ]
  },
  {
   "cell_type": "code",
   "execution_count": 39,
   "metadata": {},
   "outputs": [
    {
     "name": "stdout",
     "output_type": "stream",
     "text": [
      "This is an advanced python course\n"
     ]
    }
   ],
   "source": [
    "def coure_introduction():\n",
    "    print(\"This is an advanced python course\")\n",
    "\n",
    "coure_introduction()"
   ]
  },
  {
   "cell_type": "code",
   "execution_count": 40,
   "metadata": {},
   "outputs": [
    {
     "name": "stdout",
     "output_type": "stream",
     "text": [
      "Welcome to the advance python course\n",
      "This is an advanced python course\n",
      "Please learn these concepts properly\n"
     ]
    }
   ],
   "source": [
    "main_welcome(coure_introduction)"
   ]
  },
  {
   "cell_type": "code",
   "execution_count": 41,
   "metadata": {},
   "outputs": [
    {
     "name": "stdout",
     "output_type": "stream",
     "text": [
      "Welcome to the advance python course\n",
      "This is an advanced python course\n",
      "Please learn these concepts properly\n"
     ]
    }
   ],
   "source": [
    "@main_welcome\n",
    "def coure_introduction():\n",
    "    print(\"This is an advanced python course\")"
   ]
  },
  {
   "cell_type": "code",
   "execution_count": 42,
   "metadata": {},
   "outputs": [],
   "source": [
    "## Decorator\n",
    "\n",
    "def my_decorator(func):\n",
    "    def wrapper():\n",
    "        print(\"Something is happening before the function is called.\")\n",
    "        func()\n",
    "        print(\"Something is happening after the function is called.\")\n",
    "    return wrapper"
   ]
  },
  {
   "cell_type": "code",
   "execution_count": 43,
   "metadata": {},
   "outputs": [],
   "source": [
    "@my_decorator\n",
    "def say_hello():\n",
    "    print(\"Hello!\")\n",
    "\n"
   ]
  },
  {
   "cell_type": "code",
   "execution_count": 44,
   "metadata": {},
   "outputs": [
    {
     "name": "stdout",
     "output_type": "stream",
     "text": [
      "Something is happening before the function is called.\n",
      "Hello!\n",
      "Something is happening after the function is called.\n"
     ]
    }
   ],
   "source": [
    "say_hello()"
   ]
  },
  {
   "cell_type": "code",
   "execution_count": 46,
   "metadata": {},
   "outputs": [],
   "source": [
    "## Decorators WWith arguments\n",
    "def repeat(n):\n",
    "    def decorator(func):\n",
    "        def wrapper(*args, **kwargs):\n",
    "            for _ in range(n):\n",
    "                func(*args, **kwargs)\n",
    "        return wrapper\n",
    "    return decorator"
   ]
  },
  {
   "cell_type": "code",
   "execution_count": 47,
   "metadata": {},
   "outputs": [],
   "source": [
    "@repeat(3)\n",
    "def say_hello():\n",
    "    print(\"Hello\")"
   ]
  },
  {
   "cell_type": "code",
   "execution_count": 48,
   "metadata": {},
   "outputs": [
    {
     "name": "stdout",
     "output_type": "stream",
     "text": [
      "Hello\n",
      "Hello\n",
      "Hello\n"
     ]
    }
   ],
   "source": [
    "say_hello()"
   ]
  },
  {
   "cell_type": "markdown",
   "metadata": {},
   "source": [
    "#### Conclusion\n",
    "Decorators are a powerful tool in Python for extending and modifying the behavior of functions and methods. They provide a clean and readable way to add functionality such as logging, timing, access control, and more without changing the original code. Understanding and using decorators effectively can significantly enhance your Python programming skills."
   ]
  },
  {
   "cell_type": "code",
   "execution_count": null,
   "metadata": {},
   "outputs": [],
   "source": []
  }
 ],
 "metadata": {
  "kernelspec": {
   "display_name": "Python 3",
   "language": "python",
   "name": "python3"
  },
  "language_info": {
   "codemirror_mode": {
    "name": "ipython",
    "version": 3
   },
   "file_extension": ".py",
   "mimetype": "text/x-python",
   "name": "python",
   "nbconvert_exporter": "python",
   "pygments_lexer": "ipython3",
   "version": "3.12.0"
  }
 },
 "nbformat": 4,
 "nbformat_minor": 2
}
