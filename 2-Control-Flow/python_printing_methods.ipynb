{
 "cells": [
  {
   "cell_type": "markdown",
   "id": "08ca0d6b",
   "metadata": {},
   "source": [
    "# Different Ways to Print Statements in Python"
   ]
  },
  {
   "cell_type": "markdown",
   "id": "a0c13905",
   "metadata": {},
   "source": [
    "## 1. Basic Print Statement"
   ]
  },
  {
   "cell_type": "code",
   "execution_count": 1,
   "id": "c8f94546",
   "metadata": {},
   "outputs": [
    {
     "name": "stdout",
     "output_type": "stream",
     "text": [
      "Hello, World!\n"
     ]
    }
   ],
   "source": [
    "print(\"Hello, World!\")"
   ]
  },
  {
   "cell_type": "markdown",
   "id": "f078315f",
   "metadata": {},
   "source": [
    "## 2. Printing with Variables"
   ]
  },
  {
   "cell_type": "code",
   "execution_count": 2,
   "id": "2256e733",
   "metadata": {},
   "outputs": [
    {
     "name": "stdout",
     "output_type": "stream",
     "text": [
      "Hello, Nick!\n",
      "Hello, Nick !\n"
     ]
    }
   ],
   "source": [
    "name = \"Nick\"\n",
    "print(\"Hello, \" + name + \"!\")  # Using concatenation\n",
    "print(\"Hello,\", name, \"!\")      # Using commas (automatically adds spaces)"
   ]
  },
  {
   "cell_type": "markdown",
   "id": "a3e24d64",
   "metadata": {},
   "source": [
    "## 3. Using f-strings (Formatted String Literals)"
   ]
  },
  {
   "cell_type": "code",
   "execution_count": 3,
   "id": "3ab786f2",
   "metadata": {},
   "outputs": [
    {
     "name": "stdout",
     "output_type": "stream",
     "text": [
      "My name is Nick and I am 25 years old.\n"
     ]
    }
   ],
   "source": [
    "name = \"Nick\"\n",
    "age = 25\n",
    "print(f\"My name is {name} and I am {age} years old.\")"
   ]
  },
  {
   "cell_type": "markdown",
   "id": "2abb4dfd",
   "metadata": {},
   "source": [
    "### f-strings with Expressions"
   ]
  },
  {
   "cell_type": "code",
   "execution_count": 4,
   "id": "1ca4d5aa",
   "metadata": {},
   "outputs": [
    {
     "name": "stdout",
     "output_type": "stream",
     "text": [
      "The sum of 5 and 10 is 15.\n"
     ]
    }
   ],
   "source": [
    "a = 5\n",
    "b = 10\n",
    "print(f\"The sum of {a} and {b} is {a + b}.\")"
   ]
  },
  {
   "cell_type": "markdown",
   "id": "9cf53210",
   "metadata": {},
   "source": [
    "### f-strings with Formatting"
   ]
  },
  {
   "cell_type": "code",
   "execution_count": 7,
   "id": "845eccc6",
   "metadata": {},
   "outputs": [
    {
     "name": "stdout",
     "output_type": "stream",
     "text": [
      "The price is KES 49.99\n"
     ]
    }
   ],
   "source": [
    "price = 49.99\n",
    "print(f\"The price is KES {price:.2f}\")  # Two decimal places"
   ]
  },
  {
   "cell_type": "markdown",
   "id": "762581b5",
   "metadata": {},
   "source": [
    "## 4. Using `.format()` Method"
   ]
  },
  {
   "cell_type": "code",
   "execution_count": 8,
   "id": "6b63d50e",
   "metadata": {},
   "outputs": [
    {
     "name": "stdout",
     "output_type": "stream",
     "text": [
      "My name is Nick and I am 25 years old.\n"
     ]
    }
   ],
   "source": [
    "name = \"Nick\"\n",
    "age = 25\n",
    "print(\"My name is {} and I am {} years old.\".format(name, age))"
   ]
  },
  {
   "cell_type": "markdown",
   "id": "f39dde83",
   "metadata": {},
   "source": [
    "### Using Positional Arguments"
   ]
  },
  {
   "cell_type": "code",
   "execution_count": 9,
   "id": "bfcf361b",
   "metadata": {},
   "outputs": [
    {
     "name": "stdout",
     "output_type": "stream",
     "text": [
      "The cat jumps over the fence and the dog\n"
     ]
    }
   ],
   "source": [
    "print(\"The {2} jumps over the {1} and the {0}\".format(\"dog\", \"fence\", \"cat\"))"
   ]
  },
  {
   "cell_type": "markdown",
   "id": "37bc921c",
   "metadata": {},
   "source": [
    "## 5. Using `%` Formatting (Old Style)"
   ]
  },
  {
   "cell_type": "code",
   "execution_count": 10,
   "id": "cca3ded9",
   "metadata": {},
   "outputs": [
    {
     "name": "stdout",
     "output_type": "stream",
     "text": [
      "My name is Nick and I am 25 years old.\n"
     ]
    }
   ],
   "source": [
    "name = \"Nick\"\n",
    "age = 25\n",
    "print(\"My name is %s and I am %d years old.\" % (name, age))"
   ]
  },
  {
   "cell_type": "markdown",
   "id": "e4ebdbfb",
   "metadata": {},
   "source": [
    "## 6. Multi-Line Printing"
   ]
  },
  {
   "cell_type": "code",
   "execution_count": 11,
   "id": "2959ed3c",
   "metadata": {},
   "outputs": [
    {
     "name": "stdout",
     "output_type": "stream",
     "text": [
      "This is\n",
      "a multi-line\n",
      "string.\n"
     ]
    }
   ],
   "source": [
    "print(\"\"\"This is\n",
    "a multi-line\n",
    "string.\"\"\")"
   ]
  },
  {
   "cell_type": "markdown",
   "id": "b93d9a54",
   "metadata": {},
   "source": [
    "## 7. Printing Without a New Line"
   ]
  },
  {
   "cell_type": "code",
   "execution_count": 12,
   "id": "b0a93a2a",
   "metadata": {},
   "outputs": [
    {
     "name": "stdout",
     "output_type": "stream",
     "text": [
      "Hello World!\n"
     ]
    }
   ],
   "source": [
    "print(\"Hello\", end=\" \")\n",
    "print(\"World!\")  # Will print on the same line"
   ]
  },
  {
   "cell_type": "markdown",
   "id": "413d9213",
   "metadata": {},
   "source": [
    "## 8. Printing Special Characters"
   ]
  },
  {
   "cell_type": "code",
   "execution_count": null,
   "id": "76c43ec3",
   "metadata": {},
   "outputs": [
    {
     "name": "stdout",
     "output_type": "stream",
     "text": [
      "This is a tab:\t and this is a new line:\n",
      "New Line!\n"
     ]
    }
   ],
   "source": [
    "print(\"This is a tab:\\t and this is a new line:\\nNew Line!\")\n"
   ]
  },
  {
   "cell_type": "markdown",
   "id": "8f8cfa87",
   "metadata": {},
   "source": [
    " ## Raw strings (ignores escape sequences):"
   ]
  },
  {
   "cell_type": "code",
   "execution_count": 16,
   "id": "cdb430a3",
   "metadata": {},
   "outputs": [
    {
     "name": "stdout",
     "output_type": "stream",
     "text": [
      "C:\\Users\\Nick\\Documents\n"
     ]
    }
   ],
   "source": [
    "print(r\"C:\\Users\\Nick\\Documents\")"
   ]
  },
  {
   "cell_type": "markdown",
   "id": "681b3191",
   "metadata": {},
   "source": [
    "## 9. Printing Unicode & Emojis"
   ]
  },
  {
   "cell_type": "code",
   "execution_count": 17,
   "id": "36ac6b3d",
   "metadata": {},
   "outputs": [
    {
     "name": "stdout",
     "output_type": "stream",
     "text": [
      "Unicode: ❤\n",
      "Emoji: 😀\n"
     ]
    }
   ],
   "source": [
    "print(\"Unicode: \\u2764\")  # Unicode for ❤️\n",
    "print(\"Emoji: \\U0001F600\")  # Unicode for 😀"
   ]
  },
  {
   "cell_type": "markdown",
   "id": "2012bc94",
   "metadata": {},
   "source": [
    "## 10. Printing Lists, Dictionaries, and Objects"
   ]
  },
  {
   "cell_type": "markdown",
   "id": "c8b972ad",
   "metadata": {},
   "source": [
    "## Printing Lists:"
   ]
  },
  {
   "cell_type": "code",
   "execution_count": 18,
   "id": "86053dcf",
   "metadata": {},
   "outputs": [
    {
     "name": "stdout",
     "output_type": "stream",
     "text": [
      "Fruits: ['apple', 'banana', 'cherry']\n"
     ]
    }
   ],
   "source": [
    "fruits = [\"apple\", \"banana\", \"cherry\"]\n",
    "print(\"Fruits:\", fruits)"
   ]
  },
  {
   "cell_type": "markdown",
   "id": "cb6bcf7a",
   "metadata": {},
   "source": [
    "### Pretty-printing Dictionaries with `json.dumps()`"
   ]
  },
  {
   "cell_type": "code",
   "execution_count": 19,
   "id": "010886b2",
   "metadata": {},
   "outputs": [
    {
     "name": "stdout",
     "output_type": "stream",
     "text": [
      "{\n",
      "    \"name\": \"Nick\",\n",
      "    \"age\": 25,\n",
      "    \"city\": \"Stockholm\"\n",
      "}\n"
     ]
    }
   ],
   "source": [
    "import json\n",
    "data = {\"name\": \"Nick\", \"age\": 25, \"city\": \"Stockholm\"}\n",
    "print(json.dumps(data, indent=4))"
   ]
  },
  {
   "cell_type": "markdown",
   "id": "53d22b9d",
   "metadata": {},
   "source": [
    "## 11. Printing Debugging Information"
   ]
  },
  {
   "cell_type": "code",
   "execution_count": 20,
   "id": "77d7952c",
   "metadata": {},
   "outputs": [
    {
     "name": "stdout",
     "output_type": "stream",
     "text": [
      "'Hello\\tWorld!'\n"
     ]
    }
   ],
   "source": [
    "print(repr(\"Hello\tWorld!\"))  # Shows escape characters"
   ]
  },
  {
   "cell_type": "markdown",
   "id": "5a2308e0",
   "metadata": {},
   "source": [
    "### Using `sep` and `end` parameters"
   ]
  },
  {
   "cell_type": "code",
   "execution_count": 21,
   "id": "ee9f2136",
   "metadata": {},
   "outputs": [
    {
     "name": "stdout",
     "output_type": "stream",
     "text": [
      "Python - is - awesome!!!\n"
     ]
    }
   ],
   "source": [
    "print(\"Python\", \"is\", \"awesome\", sep=\" - \", end=\"!!!\\n\")\n"
   ]
  },
  {
   "cell_type": "markdown",
   "id": "cab7d0db",
   "metadata": {},
   "source": [
    "## 12. Printing in Color (Using `colorama` Library)"
   ]
  },
  {
   "cell_type": "code",
   "execution_count": 22,
   "id": "0d35e37f",
   "metadata": {},
   "outputs": [
    {
     "name": "stdout",
     "output_type": "stream",
     "text": [
      "\u001b[31mThis is red text!\u001b[0m\n",
      "\u001b[32mThis is green text!\u001b[0m\n"
     ]
    }
   ],
   "source": [
    "from colorama import Fore, Style\n",
    "print(Fore.RED + \"This is red text!\" + Style.RESET_ALL)\n",
    "print(Fore.GREEN + \"This is green text!\" + Style.RESET_ALL)"
   ]
  },
  {
   "cell_type": "markdown",
   "id": "28ca2f50",
   "metadata": {},
   "source": [
    "## Summary"
   ]
  },
  {
   "cell_type": "markdown",
   "id": "58102ae9",
   "metadata": {},
   "source": [
    "- **Use f-strings (`print(f\"{}\")`) for modern and readable formatting.**\n",
    "- **Use `.format()` for more control over formatting.**\n",
    "- **Use `json.dumps()` for pretty-printing dictionaries.**\n",
    "- **Use `repr()` when debugging to see the exact representation of a string.**\n",
    "- **Use `end=\"\"` and `sep=\"\"` for fine-tuned output.**"
   ]
  },
  {
   "cell_type": "markdown",
   "id": "3a6966ba",
   "metadata": {},
   "source": []
  }
 ],
 "metadata": {
  "kernelspec": {
   "display_name": "Python 3",
   "language": "python",
   "name": "python3"
  },
  "language_info": {
   "codemirror_mode": {
    "name": "ipython",
    "version": 3
   },
   "file_extension": ".py",
   "mimetype": "text/x-python",
   "name": "python",
   "nbconvert_exporter": "python",
   "pygments_lexer": "ipython3",
   "version": "3.12.0"
  }
 },
 "nbformat": 4,
 "nbformat_minor": 5
}
