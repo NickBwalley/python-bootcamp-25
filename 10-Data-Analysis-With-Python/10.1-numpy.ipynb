{
 "cells": [
  {
   "cell_type": "markdown",
   "metadata": {},
   "source": [
    "### What is NumPy Used For?\n",
    "`NumPy` is `designed` to: \n",
    "- ✅ `Perform fast mathematical` operations on `large data arrays`.\n",
    "- ✅ Efficiently handle multi-dimensional arrays (also called ndarrays).\n",
    "- ✅ Provide a rich collection of mathematical functions for operations like algebra, statistics, and Fourier transformations.\n",
    "- ✅ Enable powerful tools for array slicing, indexing, and reshaping data.\n",
    "- ✅ Act as a foundation for other libraries like Pandas, Scikit-learn, and TensorFlow."
   ]
  },
  {
   "cell_type": "code",
   "execution_count": 1,
   "metadata": {},
   "outputs": [
    {
     "name": "stdout",
     "output_type": "stream",
     "text": [
      "Requirement already satisfied: numpy in d:\\python-bootcamp-25\\venv\\lib\\site-packages (2.2.3)\n"
     ]
    }
   ],
   "source": [
    "!pip install numpy"
   ]
  },
  {
   "cell_type": "markdown",
   "metadata": {},
   "source": [
    "#### 3.1 Creating Arrays in NumPy\n",
    "- NumPy's core data structure is the ndarray (N-dimensional array).\n",
    "- Example: Creating 1D and 2D Arrays"
   ]
  },
  {
   "cell_type": "code",
   "execution_count": 7,
   "metadata": {},
   "outputs": [
    {
     "name": "stdout",
     "output_type": "stream",
     "text": [
      "1D Array: [1 2 3 4 5]\n",
      "2D Array:\n",
      " [[1 2 3]\n",
      " [4 5 6]]\n"
     ]
    }
   ],
   "source": [
    "import numpy as np\n",
    "\n",
    "# 1D Array\n",
    "arr1 = np.array([1, 2, 3, 4, 5])\n",
    "print(\"1D Array:\", arr1)\n",
    "\n",
    "# 2D Array (Matrix)\n",
    "arr2 = np.array([[1, 2, 3], [4, 5, 6]])\n",
    "print(\"2D Array:\\n\", arr2)\n"
   ]
  },
  {
   "cell_type": "markdown",
   "metadata": {},
   "source": [
    "#### 3.2 Array Shape, Size, and Data Type\n",
    "- `.shape` → Returns the array’s dimensions.\n",
    "- `.size` → Returns the total number of elements.\n",
    "- `.dtype` → Returns the data type of elements.\n",
    "- Example:"
   ]
  },
  {
   "cell_type": "code",
   "execution_count": 8,
   "metadata": {},
   "outputs": [
    {
     "name": "stdout",
     "output_type": "stream",
     "text": [
      "Shape: (2, 3)\n",
      "Size: 6\n",
      "Data Type: int64\n"
     ]
    }
   ],
   "source": [
    "print(\"Shape:\", arr2.shape)    # (2, 3) → 2 rows, 3 columns\n",
    "print(\"Size:\", arr2.size)      # 6 → Total elements\n",
    "print(\"Data Type:\", arr2.dtype)  # int64\n"
   ]
  },
  {
   "cell_type": "markdown",
   "metadata": {},
   "source": [
    "#### 3.3 Creating Special Arrays\n",
    "- NumPy has functions to create special arrays efficiently:\n",
    "\n",
    "- `np.zeros()`\tCreates an array filled with zeros.\n",
    "- `np.ones()`\tCreates an array filled with ones.\n",
    "- `np.arange()`\tCreates an array with a range of values.\n",
    "- `np.linspace()`\tCreates an array with evenly spaced values.\n",
    "- Example:"
   ]
  },
  {
   "cell_type": "code",
   "execution_count": 9,
   "metadata": {},
   "outputs": [
    {
     "name": "stdout",
     "output_type": "stream",
     "text": [
      "[[0. 0. 0.]\n",
      " [0. 0. 0.]]\n",
      "[[1. 1.]\n",
      " [1. 1.]\n",
      " [1. 1.]]\n",
      "[1 3 5 7 9]\n",
      "[1.         2.33333333 3.66666667 5.        ]\n"
     ]
    }
   ],
   "source": [
    "print(np.zeros((2, 3)))         # 2x3 array filled with zeros\n",
    "print(np.ones((3, 2)))          # 3x2 array filled with ones\n",
    "print(np.arange(1, 10, 2))      # [1 3 5 7 9] → Range from 1 to 9 with step 2\n",
    "print(np.linspace(1, 5, 4))     # [1. 2.333 3.667 5.] → 4 evenly spaced values\n"
   ]
  },
  {
   "cell_type": "markdown",
   "metadata": {},
   "source": [
    "#### 3.4 Basic Mathematical Operations\n",
    "- NumPy supports element-wise arithmetic.\n"
   ]
  },
  {
   "cell_type": "code",
   "execution_count": 10,
   "metadata": {},
   "outputs": [
    {
     "name": "stdout",
     "output_type": "stream",
     "text": [
      "Addition: [5 7 9]\n",
      "Subtraction: [-3 -3 -3]\n",
      "Multiplication: [ 4 10 18]\n",
      "Division: [0.25 0.4  0.5 ]\n",
      "Power: [1 4 9]\n"
     ]
    }
   ],
   "source": [
    "a = np.array([1, 2, 3])\n",
    "b = np.array([4, 5, 6])\n",
    "\n",
    "print(\"Addition:\", a + b)         # [5 7 9]\n",
    "print(\"Subtraction:\", a - b)      # [-3 -3 -3]\n",
    "print(\"Multiplication:\", a * b)   # [4 10 18]\n",
    "print(\"Division:\", a / b)         # [0.25 0.4 0.5]\n",
    "print(\"Power:\", a ** 2)           # [1 4 9]\n"
   ]
  },
  {
   "cell_type": "markdown",
   "metadata": {},
   "source": [
    "#### 3.5 Array Indexing and Slicing\n",
    "- NumPy allows powerful slicing and indexing techniques.\n"
   ]
  },
  {
   "cell_type": "code",
   "execution_count": 11,
   "metadata": {},
   "outputs": [
    {
     "name": "stdout",
     "output_type": "stream",
     "text": [
      "20\n",
      "[20 30 40]\n",
      "[50 40 30 20 10]\n"
     ]
    }
   ],
   "source": [
    "arr = np.array([10, 20, 30, 40, 50])\n",
    "\n",
    "print(arr[1])      # 20 → Access element at index 1\n",
    "print(arr[1:4])    # [20 30 40] → Slice from index 1 to 3\n",
    "print(arr[::-1])   # [50 40 30 20 10] → Reverse the array\n"
   ]
  },
  {
   "cell_type": "markdown",
   "metadata": {},
   "source": [
    "#### 3.6 Reshaping Arrays\n",
    "- Reshape data into different dimensions.\n"
   ]
  },
  {
   "cell_type": "code",
   "execution_count": 12,
   "metadata": {},
   "outputs": [
    {
     "name": "stdout",
     "output_type": "stream",
     "text": [
      "[[1 2 3]\n",
      " [4 5 6]]\n"
     ]
    }
   ],
   "source": [
    "arr = np.array([1, 2, 3, 4, 5, 6])\n",
    "reshaped_arr = arr.reshape(2, 3)  # Reshape into 2 rows and 3 columns\n",
    "print(reshaped_arr)\n"
   ]
  },
  {
   "cell_type": "markdown",
   "metadata": {},
   "source": [
    "#### 3.7 Aggregation Functions\n",
    "- NumPy provides built-in functions for aggregation like sum(), mean(), min(), max()."
   ]
  },
  {
   "cell_type": "code",
   "execution_count": 13,
   "metadata": {},
   "outputs": [
    {
     "name": "stdout",
     "output_type": "stream",
     "text": [
      "Sum: 15\n",
      "Mean: 3.0\n",
      "Min: 1\n",
      "Max: 5\n",
      "Standard Deviation: 1.4142135623730951\n"
     ]
    }
   ],
   "source": [
    "data = np.array([1, 2, 3, 4, 5])\n",
    "\n",
    "print(\"Sum:\", np.sum(data))           # 15\n",
    "print(\"Mean:\", np.mean(data))         # 3.0\n",
    "print(\"Min:\", np.min(data))           # 1\n",
    "print(\"Max:\", np.max(data))           # 5\n",
    "print(\"Standard Deviation:\", np.std(data))  # 1.414\n"
   ]
  },
  {
   "cell_type": "markdown",
   "metadata": {},
   "source": [
    "#### 3.8 Matrix Operations\n",
    "- NumPy simplifies linear algebra calculations.\n"
   ]
  },
  {
   "cell_type": "code",
   "execution_count": 14,
   "metadata": {},
   "outputs": [
    {
     "name": "stdout",
     "output_type": "stream",
     "text": [
      "Matrix Multiplication:\n",
      " [[19 22]\n",
      " [43 50]]\n"
     ]
    }
   ],
   "source": [
    "A = np.array([[1, 2], \n",
    "              [3, 4]])\n",
    "B = np.array([[5, 6], \n",
    "              [7, 8]])\n",
    "\n",
    "# Matrix Multiplication\n",
    "result = np.dot(A, B)\n",
    "print(\"Matrix Multiplication:\\n\", result)\n"
   ]
  },
  {
   "cell_type": "markdown",
   "metadata": {},
   "source": [
    "#### 3.9 Random Number Generation\n",
    "- NumPy provides functions for generating random numbers."
   ]
  },
  {
   "cell_type": "code",
   "execution_count": 15,
   "metadata": {},
   "outputs": [
    {
     "name": "stdout",
     "output_type": "stream",
     "text": [
      "[[0.15859322 0.15083554 0.89567895]\n",
      " [0.57655025 0.45063749 0.8698032 ]\n",
      " [0.33548008 0.82301194 0.63408923]]\n"
     ]
    }
   ],
   "source": [
    "random_data = np.random.rand(3, 3)  # 3x3 array of random values between 0 and 1\n",
    "print(random_data)\n"
   ]
  },
  {
   "cell_type": "markdown",
   "metadata": {},
   "source": [
    "#### 3.10 Filtering with Conditions\n",
    "- NumPy makes it easy to filter data based on conditions.\n"
   ]
  },
  {
   "cell_type": "code",
   "execution_count": 16,
   "metadata": {},
   "outputs": [
    {
     "name": "stdout",
     "output_type": "stream",
     "text": [
      "Filtered Data: [45 60]\n"
     ]
    }
   ],
   "source": [
    "arr = np.array([10, 25, 30, 45, 60])\n",
    "filtered_data = arr[arr > 30]  # Filter values greater than 30\n",
    "print(\"Filtered Data:\", filtered_data)\n"
   ]
  },
  {
   "cell_type": "markdown",
   "metadata": {},
   "source": [
    "### 4. Key Takeaways\n",
    "- ✅ NumPy is essential for data manipulation, numerical operations, and efficient handling of large datasets.\n",
    "- ✅ It provides powerful tools for array creation, mathematical functions, matrix operations, and random number generation.\n",
    "- ✅ NumPy’s efficient array handling makes it faster and more memory-efficient than standard Python lists for large-scale data."
   ]
  },
  {
   "cell_type": "code",
   "execution_count": null,
   "metadata": {},
   "outputs": [],
   "source": []
  }
 ],
 "metadata": {
  "kernelspec": {
   "display_name": "Python 3",
   "language": "python",
   "name": "python3"
  },
  "language_info": {
   "codemirror_mode": {
    "name": "ipython",
    "version": 3
   },
   "file_extension": ".py",
   "mimetype": "text/x-python",
   "name": "python",
   "nbconvert_exporter": "python",
   "pygments_lexer": "ipython3",
   "version": "3.12.0"
  }
 },
 "nbformat": 4,
 "nbformat_minor": 2
}
