{
 "cells": [
  {
   "cell_type": "markdown",
   "metadata": {},
   "source": [
    "## Scikit-learn (sklearn)\n",
    "- Scikit-learn is a powerful and widely used Python library for machine learning and data science. \n",
    "- It is built on top of NumPy, SciPy, and matplotlib.\n",
    "#### Key Features of Scikit-learn\n",
    "- ✅ Simple and efficient tools for data mining and data analysis.\n",
    "- ✅ Supports both supervised and unsupervised learning algorithms.\n",
    "- ✅ Provides tools for model evaluation, data preprocessing, and hyperparameter tuning.\n",
    "- ✅ Highly efficient with optimized performance for large datasets.\n",
    "#### Popular Use Cases in Scikit-learn\n",
    "- **Classification** — e.g., Logistic Regression, Random Forest, Support Vector Machines.\n",
    "- **Regression** — e.g., Linear Regression, Ridge Regression.\n",
    "- **Clustering** — e.g., K-Means, DBSCAN.\n",
    "- **Dimensionality Reduction** — e.g., PCA (Principal Component Analysis).\n",
    "- **Model Selection** — e.g., GridSearchCV for hyperparameter tuning.\n",
    "- **Data Preprocessing** — e.g., StandardScaler, MinMaxScaler.\n",
    "#### Example: Linear Regression Using Scikit-learn"
   ]
  },
  {
   "cell_type": "code",
   "execution_count": 1,
   "metadata": {},
   "outputs": [
    {
     "name": "stdout",
     "output_type": "stream",
     "text": [
      "Prediction for x=6: 12.0\n"
     ]
    }
   ],
   "source": [
    "import numpy as np\n",
    "from sklearn.linear_model import LinearRegression\n",
    "\n",
    "# Sample data\n",
    "X = np.array([[1], [2], [3], [4], [5]])\n",
    "y = np.array([2, 4, 6, 8, 10])  # y = 2x\n",
    "\n",
    "# Create and train the model\n",
    "model = LinearRegression()\n",
    "model.fit(X, y)\n",
    "\n",
    "# Prediction\n",
    "prediction = model.predict([[6]])\n",
    "print(\"Prediction for x=6:\", prediction[0])  # Output: 12.0\n"
   ]
  },
  {
   "cell_type": "markdown",
   "metadata": {},
   "source": [
    "## scikit vs sklearn\n",
    "- scikit refers to a broader ecosystem of Python packages built on top of SciPy for scientific computing.\n",
    "- sklearn is the specific package name for Scikit-learn in Python.\n",
    "- scikit-learn is often imported as import sklearn — this is the main library for machine learning tasks.\n",
    "\n",
    "#### Related Libraries in the Scikit Ecosystem\n",
    "- `scikit-image` — Image processing tasks.\n",
    "- `scikit-optimize` — Efficient optimization algorithms.\n",
    "- `scikit-survival` — Survival analysis for medical data.\n",
    "#### Recommended Workflow for Using Scikit-learn\n",
    "1. Import Libraries — Import sklearn for data preparation, model training, and evaluation.\n",
    "2. Load Data — Use pandas or numpy to load datasets.\n",
    "3. Preprocess Data — Use StandardScaler, LabelEncoder, etc.\n",
    "4. Split Data — Use train_test_split() to split data into training and testing sets.\n",
    "5. Model Training — Use classifiers, regressors, or clustering models.\n",
    "6. Model Evaluation — Use accuracy_score, precision_score, etc.\n",
    "7. Hyperparameter Tuning — Use GridSearchCV or RandomizedSearchCV.\n"
   ]
  },
  {
   "cell_type": "markdown",
   "metadata": {},
   "source": []
  }
 ],
 "metadata": {
  "kernelspec": {
   "display_name": "Python 3",
   "language": "python",
   "name": "python3"
  },
  "language_info": {
   "codemirror_mode": {
    "name": "ipython",
    "version": 3
   },
   "file_extension": ".py",
   "mimetype": "text/x-python",
   "name": "python",
   "nbconvert_exporter": "python",
   "pygments_lexer": "ipython3",
   "version": "3.12.0"
  }
 },
 "nbformat": 4,
 "nbformat_minor": 2
}
