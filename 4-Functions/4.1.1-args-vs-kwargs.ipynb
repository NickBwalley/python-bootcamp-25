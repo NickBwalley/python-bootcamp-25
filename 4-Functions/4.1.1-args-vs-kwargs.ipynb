{
 "cells": [
  {
   "cell_type": "markdown",
   "metadata": {},
   "source": [
    "#### Key Differences\n",
    "`*args (Positional Arguments)`: Used to pass a variable number of positional arguments to a function. Treated as a tuple inside the function. </br></br>\n",
    "`**kwargs (Keyword Arguments)`: Used to pass a variable number of keyword arguments (key-value pairs) to a function. Treated as a dictionary inside the function."
   ]
  },
  {
   "cell_type": "markdown",
   "metadata": {},
   "source": [
    "## *args illustration"
   ]
  },
  {
   "cell_type": "code",
   "execution_count": null,
   "metadata": {},
   "outputs": [
    {
     "name": "stdout",
     "output_type": "stream",
     "text": [
      "Items: (10, 20, 30)\n",
      "Total: 60\n",
      "Items: (5, 15, 25, 35)\n",
      "Total: 80\n",
      "Items: ()\n",
      "Total: 0\n"
     ]
    }
   ],
   "source": [
    "## *args: Variable number of positional arguments\n",
    "# The *args parameter allows a function to accept a variable number of positional arguments.\n",
    "def calculate_total(*args):\n",
    "    total = sum(args)\n",
    "    print(f\"Items: {args}\")\n",
    "    print(f\"Total: {total}\")\n",
    "\n",
    "# Example usage\n",
    "calculate_total(10, 20, 30)     # Three positional arguments\n",
    "calculate_total(5, 15, 25, 35)  # Four positional arguments\n",
    "calculate_total()               # No arguments\n"
   ]
  },
  {
   "cell_type": "markdown",
   "metadata": {},
   "source": [
    "#### Explanation\n",
    "`*args` collects all the values as a tuple.\n",
    "- It's useful when you don't know how many arguments will be passed in advance.\n",
    "- You can pass any number of arguments to the function."
   ]
  },
  {
   "cell_type": "markdown",
   "metadata": {},
   "source": [
    "## **kwargs illustration"
   ]
  },
  {
   "cell_type": "code",
   "execution_count": 2,
   "metadata": {},
   "outputs": [
    {
     "name": "stdout",
     "output_type": "stream",
     "text": [
      "User Info:\n",
      "name: Nick\n",
      "age: 25\n",
      "city: Nairobi\n",
      "User Info:\n",
      "name: Tamara\n",
      "occupation: Engineer\n",
      "User Info:\n"
     ]
    }
   ],
   "source": [
    "def display_user_info(**kwargs):\n",
    "    print(\"User Info:\")\n",
    "    for key, value in kwargs.items():\n",
    "        print(f\"{key}: {value}\")\n",
    "\n",
    "# Example usage\n",
    "display_user_info(name=\"Nick\", age=25, city=\"Nairobi\")\n",
    "display_user_info(name=\"Tamara\", occupation=\"Engineer\")\n",
    "display_user_info()  # No arguments\n"
   ]
  },
  {
   "cell_type": "markdown",
   "metadata": {},
   "source": [
    "#### Explanation\n",
    "`**kwargs` collects all the key-value pairs as a dictionary.\n",
    "- It's useful when you need flexible keyword arguments.\n",
    "- You can pass any number of keyword arguments to the function."
   ]
  },
  {
   "cell_type": "markdown",
   "metadata": {},
   "source": [
    "## Combining *args and **kwargs\n",
    "- You can use `both` in the same function, but `*args` **must** appear **before** `**kwargs` in the parameter list."
   ]
  },
  {
   "cell_type": "code",
   "execution_count": 3,
   "metadata": {},
   "outputs": [
    {
     "name": "stdout",
     "output_type": "stream",
     "text": [
      "Order ID: 101\n",
      "Items: ('Laptop', 'Mouse', 'Keyboard')\n",
      "Customer Info:\n",
      "name: Nick\n",
      "address: 123 Street\n",
      "phone: 123-456-7890\n"
     ]
    }
   ],
   "source": [
    "def order_summary(order_id, *items, **customer_info):\n",
    "    print(f\"Order ID: {order_id}\")\n",
    "    print(f\"Items: {items}\")\n",
    "    print(\"Customer Info:\")\n",
    "    for key, value in customer_info.items():\n",
    "        print(f\"{key}: {value}\")\n",
    "\n",
    "# Example usage\n",
    "order_summary(\n",
    "    101, \n",
    "    \"Laptop\", \"Mouse\", \"Keyboard\",  # Positional arguments (*args)\n",
    "    name=\"Nick\", address=\"123 Street\", phone=\"123-456-7890\"  # Keyword arguments (**kwargs)\n",
    ")\n"
   ]
  },
  {
   "cell_type": "markdown",
   "metadata": {},
   "source": [
    "#### Conclusion and Best Practices \n",
    "- Use *args when the number of positional arguments is unknown.\n",
    "- Use **kwargs when the number of keyword arguments is unknown.\n",
    "- When combining both, maintain this order: def func(fixed_arg, *args, **kwargs).\n",
    "\n",
    "* This pattern is common in building flexible APIs, dynamic function calls, and enhancing code scalability. 🚀"
   ]
  },
  {
   "cell_type": "markdown",
   "metadata": {},
   "source": []
  }
 ],
 "metadata": {
  "kernelspec": {
   "display_name": "Python 3",
   "language": "python",
   "name": "python3"
  },
  "language_info": {
   "codemirror_mode": {
    "name": "ipython",
    "version": 3
   },
   "file_extension": ".py",
   "mimetype": "text/x-python",
   "name": "python",
   "nbconvert_exporter": "python",
   "pygments_lexer": "ipython3",
   "version": "3.12.0"
  }
 },
 "nbformat": 4,
 "nbformat_minor": 2
}
