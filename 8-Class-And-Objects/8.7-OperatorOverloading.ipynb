{
 "cells": [
  {
   "cell_type": "markdown",
   "metadata": {},
   "source": [
    "##### Operator Overloading\n",
    "* `Operator overloading` `allows` you to `define the behavior of operators` (+, -, *, etc.) for custom objects. You achieve this by overriding specific magic methods in your class.\n",
    "* `Operator overloading` `allows` you to `define how Python's built-in operators behave` when applied to objects of your custom classes. In Python, this is achieved by implementing special methods (also called magic methods or dunder methods) within a class.\n",
    "\n"
   ]
  },
  {
   "cell_type": "code",
   "execution_count": null,
   "metadata": {},
   "outputs": [
    {
     "data": {
      "text/plain": [
       "'\\n__add__(self, other): Adds two objects using the + operator.\\n__sub__(self, other): Subtracts two objects using the - operator.\\n__mul__(self, other): Multiplies two objects using the * operator.\\n__truediv__(self, other): Divides two objects using the / operator.\\n__eq__(self, other): Checks if two objects are equal using the == operator.\\n__lt__(self, other): Checks if one object is less than another using the < operator.\\n\\n'"
      ]
     },
     "execution_count": 2,
     "metadata": {},
     "output_type": "execute_result"
    }
   ],
   "source": [
    "#### Common Operator Overloading Magic Methods\n",
    "'''\n",
    "__add__(self, other): Adds two objects using the + operator.\n",
    "__sub__(self, other): Subtracts two objects using the - operator.\n",
    "__mul__(self, other): Multiplies two objects using the * operator.\n",
    "__truediv__(self, other): Divides two objects using the / operator.\n",
    "__eq__(self, other): Checks if two objects are equal using the == operator.\n",
    "__lt__(self, other): Checks if one object is less than another using the < operator.\n",
    "__le__(self, other): Checks if one object is less than or equal to another using the <= operator.\n",
    "__gt__(self, other): Checks if one object is greater than another using the > operator.\n",
    "__ge__(self, other): Checks if one object is greater than or equal to another using the >= operator.\n",
    "__ne__(self, other): Checks if two objects are not equal using the != operator.\n",
    "__str__(self): Converts an object into a string.\n",
    "__repr__(self): Represents an object in a string format.\n",
    "__len__(self): Returns the length of an object.\n",
    "__getitem__(self, key): Gets an item using the [] operator.\n",
    "__setitem__(self, key, value): Sets an item using the [] operator.\n",
    "__delitem__(self, key): Deletes an item using the [] operator.\n",
    "__iter__(self): Returns an iterator object.\n",
    "__next__(self): Retrieves the next item from an iterator.\n",
    "__contains__(self, item): Checks if an item is present in an object using the in operator.\n",
    "__call__(self, *args, **kwargs): Calls an object like a function.\n",
    "__enter__(self): Enters a runtime context.\n",
    "__exit__(self, exc_type, exc_value, traceback): Exits a runtime context.\n",
    "__add__ and __sub__\n",
    "__mul__ and __truediv__\n",
    "__eq__ and __ne__\n",
    "__lt__ and __le__   \n",
    "__gt__ and __ge__\n",
    "'''"
   ]
  },
  {
   "cell_type": "markdown",
   "metadata": {},
   "source": [
    "#### Example 1: Overloading the + Operator\n",
    "* Imagine you have a Vector class and want to add two vector objects."
   ]
  },
  {
   "cell_type": "code",
   "execution_count": 3,
   "metadata": {},
   "outputs": [
    {
     "name": "stdout",
     "output_type": "stream",
     "text": [
      "Vector(6, 8)\n"
     ]
    }
   ],
   "source": [
    "class Vector:\n",
    "    def __init__(self, x, y):\n",
    "        self.x = x\n",
    "        self.y = y\n",
    "\n",
    "    # Overloading the + operator\n",
    "    def __add__(self, other):\n",
    "        return Vector(self.x + other.x, self.y + other.y)\n",
    "\n",
    "    # Overloading the string representation for printing\n",
    "    def __str__(self):\n",
    "        return f\"Vector({self.x}, {self.y})\"\n",
    "\n",
    "# Example Usage\n",
    "v1 = Vector(2, 3)\n",
    "v2 = Vector(4, 5)\n",
    "\n",
    "result = v1 + v2  # Calls __add__()\n",
    "print(result)     # Output: Vector(6, 8)\n"
   ]
  },
  {
   "cell_type": "markdown",
   "metadata": {},
   "source": [
    "#### Example 2: Overloading the > Operator\n",
    "* Here's an example where we compare two objects using >."
   ]
  },
  {
   "cell_type": "code",
   "execution_count": 4,
   "metadata": {},
   "outputs": [
    {
     "name": "stdout",
     "output_type": "stream",
     "text": [
      "False\n",
      "True\n"
     ]
    }
   ],
   "source": [
    "class Box:\n",
    "    def __init__(self, width, height):\n",
    "        self.width = width\n",
    "        self.height = height\n",
    "\n",
    "    def area(self):\n",
    "        return self.width * self.height\n",
    "\n",
    "    # Overloading the > operator\n",
    "    def __gt__(self, other):\n",
    "        return self.area() > other.area()\n",
    "\n",
    "# Example Usage\n",
    "box1 = Box(4, 5)  # Area = 20\n",
    "box2 = Box(3, 7)  # Area = 21\n",
    "\n",
    "print(box1 > box2)  # Output: False\n",
    "print(box2 > box1)  # Output: True\n"
   ]
  },
  {
   "cell_type": "markdown",
   "metadata": {},
   "source": [
    "#### Note: \n",
    "- Key Rule in Operator Overloading\n",
    "- When you overload comparison operators like >, <, ==, etc.:\n",
    "\n",
    "* self → Refers to the object on the left side of the operator.\n",
    "* other → Refers to the object on the right side of the operator.\n"
   ]
  },
  {
   "cell_type": "markdown",
   "metadata": {},
   "source": [
    "#### Example 3: Overloading the str() Function\n",
    "* By overloading __str__(), you can customize how objects are printed."
   ]
  },
  {
   "cell_type": "code",
   "execution_count": 5,
   "metadata": {},
   "outputs": [
    {
     "name": "stdout",
     "output_type": "stream",
     "text": [
      "2020 Toyota Camry\n"
     ]
    }
   ],
   "source": [
    "class Car:\n",
    "    def __init__(self, model, year):\n",
    "        self.model = model\n",
    "        self.year = year\n",
    "\n",
    "    def __str__(self):\n",
    "        return f\"{self.year} {self.model}\"\n",
    "\n",
    "# Example Usage\n",
    "car = Car(\"Toyota Camry\", 2020)\n",
    "print(car)  # Output: 2020 Toyota Camry\n"
   ]
  },
  {
   "cell_type": "markdown",
   "metadata": {},
   "source": [
    "#### Key Points to Remember\n",
    "- Operator overloading enhances code readability and flexibility.\n",
    "- Always ensure overloaded operators behave intuitively to avoid confusion.\n",
    "- Use __str__() for user-friendly output and __repr__() for developer-friendly output."
   ]
  }
 ],
 "metadata": {
  "kernelspec": {
   "display_name": "Python 3",
   "language": "python",
   "name": "python3"
  },
  "language_info": {
   "codemirror_mode": {
    "name": "ipython",
    "version": 3
   },
   "file_extension": ".py",
   "mimetype": "text/x-python",
   "name": "python",
   "nbconvert_exporter": "python",
   "pygments_lexer": "ipython3",
   "version": "3.12.0"
  }
 },
 "nbformat": 4,
 "nbformat_minor": 2
}
