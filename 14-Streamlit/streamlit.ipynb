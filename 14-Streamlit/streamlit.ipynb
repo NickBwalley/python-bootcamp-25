{
 "cells": [
  {
   "cell_type": "markdown",
   "metadata": {},
   "source": [
    "#### Introduction to Streamlit\n",
    "* `Streamlit` is an `open-source app framework` for `Machine Learning` and `Data Science` projects. \n",
    "* It `allows` you to `create beautiful web applications` for your `machine learning` and `data science projects` with simple Python scripts."
   ]
  }
 ],
 "metadata": {
  "language_info": {
   "name": "python"
  }
 },
 "nbformat": 4,
 "nbformat_minor": 2
}
