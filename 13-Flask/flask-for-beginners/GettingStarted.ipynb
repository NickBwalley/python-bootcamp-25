{
 "cells": [
  {
   "cell_type": "markdown",
   "id": "dd3eb8f6",
   "metadata": {},
   "source": [
    "## Flask for Beginners to Masters: A Comprehensive Guide\n",
    "#### What is Flask?\n",
    "* Flask is a lightweight and versatile web framework for Python. It's considered a \"micro\" framework because it doesn't require particular tools or libraries, giving you freedom to choose components that work best for your project. Despite being \"micro,\" Flask can scale up to complex applications.\n",
    "#### Key features:\n",
    "* Built-in development server and debugger\n",
    "* Integrated unit testing support\n",
    "* RESTful request dispatching\n",
    "* Jinja2 templating\n",
    "* Support for secure cookies\n",
    "* WSGI 1.0 compliant\n",
    "* Unicode-based\n",
    "* Extensive documentation\n",
    "\n",
    "#### Installation: \n",
    "! pip install flask \n",
    "\n",
    "#### Real-world Examples and Companies Using Flask\n",
    "- Many companies use Flask for various applications:\n",
    "\n",
    "1. Netflix: Uses Flask for some internal web applications\n",
    "2. LinkedIn: Uses Flask for certain microservices\n",
    "3. Airbnb: Used Flask for some of their internal tools\n",
    "4. Reddit: Parts of Reddit were built with Flask\n",
    "5. Lyft: Uses Flask for some of their internal services\n",
    "6. Pinterest: Has used Flask for API services\n",
    "\n",
    "#### Flask Use Cases:\n",
    "\n",
    "1. Web Applications: Full-featured web applications like our task manager\n",
    "2. RESTful APIs: Backend services for mobile apps or SPAs\n",
    "3. Microservices: Small, focused services in a larger architecture\n",
    "4. Admin Dashboards: Internal tools for business operations\n",
    "5. Analytics Platforms: Data collection and visualization\n",
    "6. Prototyping: Quickly building MVPs (Minimum Viable Products)"
   ]
  },
  {
   "cell_type": "code",
   "execution_count": 1,
   "id": "8229c577",
   "metadata": {},
   "outputs": [
    {
     "name": "stdout",
     "output_type": "stream",
     "text": [
      "Requirement already satisfied: flask in d:\\python-bootcamp-25\\venv\\lib\\site-packages (3.1.0)\n",
      "Requirement already satisfied: Werkzeug>=3.1 in d:\\python-bootcamp-25\\venv\\lib\\site-packages (from flask) (3.1.3)\n",
      "Requirement already satisfied: Jinja2>=3.1.2 in d:\\python-bootcamp-25\\venv\\lib\\site-packages (from flask) (3.1.6)\n",
      "Requirement already satisfied: itsdangerous>=2.2 in d:\\python-bootcamp-25\\venv\\lib\\site-packages (from flask) (2.2.0)\n",
      "Requirement already satisfied: click>=8.1.3 in d:\\python-bootcamp-25\\venv\\lib\\site-packages (from flask) (8.1.8)\n",
      "Requirement already satisfied: blinker>=1.9 in d:\\python-bootcamp-25\\venv\\lib\\site-packages (from flask) (1.9.0)\n",
      "Requirement already satisfied: colorama in d:\\python-bootcamp-25\\venv\\lib\\site-packages (from click>=8.1.3->flask) (0.4.6)\n",
      "Requirement already satisfied: MarkupSafe>=2.0 in d:\\python-bootcamp-25\\venv\\lib\\site-packages (from Jinja2>=3.1.2->flask) (3.0.2)\n"
     ]
    }
   ],
   "source": [
    "# Getting Started with Flask\n",
    "# First, let's install Flask:\n",
    "! pip install flask"
   ]
  },
  {
   "cell_type": "code",
   "execution_count": null,
   "id": "1fa0f98e",
   "metadata": {},
   "outputs": [],
   "source": []
  }
 ],
 "metadata": {
  "kernelspec": {
   "display_name": "Python 3",
   "language": "python",
   "name": "python3"
  },
  "language_info": {
   "codemirror_mode": {
    "name": "ipython",
    "version": 3
   },
   "file_extension": ".py",
   "mimetype": "text/x-python",
   "name": "python",
   "nbconvert_exporter": "python",
   "pygments_lexer": "ipython3",
   "version": "3.12.0"
  }
 },
 "nbformat": 4,
 "nbformat_minor": 5
}
