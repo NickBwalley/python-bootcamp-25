{
 "cells": [
  {
   "cell_type": "markdown",
   "id": "dd3eb8f6",
   "metadata": {},
   "source": [
    "## Flask for Beginners to Masters: A Comprehensive Guide\n",
    "#### What is Flask?\n",
    "* Flask is a lightweight and versatile web framework for Python. It's considered a \"micro\" framework because it doesn't require particular tools or libraries, giving you freedom to choose components that work best for your project. Despite being \"micro,\" Flask can scale up to complex applications.\n",
    "#### Key features:\n",
    "* Built-in development server and debugger\n",
    "* Integrated unit testing support\n",
    "* RESTful request dispatching\n",
    "* Jinja2 templating\n",
    "* Support for secure cookies\n",
    "* WSGI 1.0 compliant\n",
    "* Unicode-based\n",
    "* Extensive documentation"
   ]
  },
  {
   "cell_type": "code",
   "execution_count": 1,
   "id": "8229c577",
   "metadata": {},
   "outputs": [
    {
     "name": "stdout",
     "output_type": "stream",
     "text": [
      "Requirement already satisfied: flask in d:\\python-bootcamp-25\\venv\\lib\\site-packages (3.1.0)\n",
      "Requirement already satisfied: Werkzeug>=3.1 in d:\\python-bootcamp-25\\venv\\lib\\site-packages (from flask) (3.1.3)\n",
      "Requirement already satisfied: Jinja2>=3.1.2 in d:\\python-bootcamp-25\\venv\\lib\\site-packages (from flask) (3.1.6)\n",
      "Requirement already satisfied: itsdangerous>=2.2 in d:\\python-bootcamp-25\\venv\\lib\\site-packages (from flask) (2.2.0)\n",
      "Requirement already satisfied: click>=8.1.3 in d:\\python-bootcamp-25\\venv\\lib\\site-packages (from flask) (8.1.8)\n",
      "Requirement already satisfied: blinker>=1.9 in d:\\python-bootcamp-25\\venv\\lib\\site-packages (from flask) (1.9.0)\n",
      "Requirement already satisfied: colorama in d:\\python-bootcamp-25\\venv\\lib\\site-packages (from click>=8.1.3->flask) (0.4.6)\n",
      "Requirement already satisfied: MarkupSafe>=2.0 in d:\\python-bootcamp-25\\venv\\lib\\site-packages (from Jinja2>=3.1.2->flask) (3.0.2)\n"
     ]
    }
   ],
   "source": [
    "# Getting Started with Flask\n",
    "# First, let's install Flask:\n",
    "! pip install flask"
   ]
  },
  {
   "cell_type": "code",
   "execution_count": null,
   "id": "1fa0f98e",
   "metadata": {},
   "outputs": [],
   "source": []
  }
 ],
 "metadata": {
  "kernelspec": {
   "display_name": "Python 3",
   "language": "python",
   "name": "python3"
  },
  "language_info": {
   "codemirror_mode": {
    "name": "ipython",
    "version": 3
   },
   "file_extension": ".py",
   "mimetype": "text/x-python",
   "name": "python",
   "nbconvert_exporter": "python",
   "pygments_lexer": "ipython3",
   "version": "3.12.0"
  }
 },
 "nbformat": 4,
 "nbformat_minor": 5
}
