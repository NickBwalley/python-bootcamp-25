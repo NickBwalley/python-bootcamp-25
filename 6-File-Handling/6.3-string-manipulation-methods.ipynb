{
 "cells": [
  {
   "cell_type": "markdown",
   "metadata": {},
   "source": [
    "### 1. split() — Splitting a String into a List\n",
    "- The split() method breaks a string into a list of substrings based on a specified delimiter. \n",
    "- By default, it splits on whitespace.\n",
    "- `Syntax`: string.split(separator, maxsplit)\n",
    "- `separator` (optional): The delimiter to split on. Defaults to whitespace.\n",
    "- `maxsplit` (optional): Limits the number of splits.\n"
   ]
  },
  {
   "cell_type": "code",
   "execution_count": 1,
   "metadata": {},
   "outputs": [
    {
     "name": "stdout",
     "output_type": "stream",
     "text": [
      "['Python', 'is', 'powerful', 'and', 'versatile']\n",
      "['apple', 'banana', 'orange', 'grape']\n",
      "['Python', 'is', 'fun to learn']\n"
     ]
    }
   ],
   "source": [
    "text = \"Python is powerful and versatile\"\n",
    "\n",
    "# Default split (splits on spaces)\n",
    "words = text.split()\n",
    "print(words)  \n",
    "# Output: ['Python', 'is', 'powerful', 'and', 'versatile']\n",
    "\n",
    "# Split on a specific character\n",
    "csv_data = \"apple,banana,orange,grape\"\n",
    "fruits = csv_data.split(\",\")\n",
    "print(fruits)\n",
    "# Output: ['apple', 'banana', 'orange', 'grape']\n",
    "\n",
    "# Split with `maxsplit`\n",
    "sentence = \"Python is fun to learn\"\n",
    "result = sentence.split(\" \", 2)  # Split only twice\n",
    "print(result)\n",
    "# Output: ['Python', 'is', 'fun to learn']\n"
   ]
  },
  {
   "cell_type": "markdown",
   "metadata": {},
   "source": [
    "### 2. strip() — Removing Unwanted Leading and Trailing Characters\n",
    "- The `strip()` method `removes leading and trailing whitespace` (or specified characters) `from` a `string`. \n",
    "- It does not remove characters inside the string.\n",
    "- `Syntax`: string.strip([chars])\n",
    "- `chars` (optional): `Specifies` the `characters to remove`. Defaults to whitespace."
   ]
  },
  {
   "cell_type": "code",
   "execution_count": 3,
   "metadata": {},
   "outputs": [
    {
     "name": "stdout",
     "output_type": "stream",
     "text": [
      "'Hello, World!'\n",
      "Python\n",
      "Learn Python!   \n",
      "   Learn Python!\n"
     ]
    }
   ],
   "source": [
    "text = \"   Hello, World!   \"\n",
    "\n",
    "# Removing leading and trailing spaces\n",
    "cleaned_text = text.strip()\n",
    "print(f\"'{cleaned_text}'\")  \n",
    "# Output: 'Hello, World!'\n",
    "\n",
    "# Removing specific characters\n",
    "messy_text = \"---Python---\"\n",
    "cleaned_text = messy_text.strip(\"-\")\n",
    "print(cleaned_text)\n",
    "# Output: 'Python'\n",
    "\n",
    "# Other Variants\n",
    "# lstrip() → Removes leading characters only.\n",
    "# rstrip() → Removes trailing characters only.\n",
    "text = \"   Learn Python!   \"\n",
    "print(text.lstrip())  # 'Learn Python!   '\n",
    "print(text.rstrip())  # '   Learn Python!'\n",
    "\n"
   ]
  },
  {
   "cell_type": "markdown",
   "metadata": {},
   "source": [
    "### 3. join() — Joins Elements into a String\n"
   ]
  },
  {
   "cell_type": "code",
   "execution_count": 4,
   "metadata": {},
   "outputs": [
    {
     "name": "stdout",
     "output_type": "stream",
     "text": [
      "Hello World Python\n"
     ]
    }
   ],
   "source": [
    "words = ['Hello', 'World', 'Python']\n",
    "result = \" \".join(words)\n",
    "print(result)\n",
    "# Output: 'Hello World Python'\n"
   ]
  },
  {
   "cell_type": "markdown",
   "metadata": {},
   "source": [
    "### 4. replace() — Replacing Substrings"
   ]
  },
  {
   "cell_type": "code",
   "execution_count": 5,
   "metadata": {},
   "outputs": [
    {
     "name": "stdout",
     "output_type": "stream",
     "text": [
      "I love JavaScript!\n"
     ]
    }
   ],
   "source": [
    "text = \"I love Python!\"\n",
    "new_text = text.replace(\"Python\", \"JavaScript\")\n",
    "print(new_text)\n",
    "# Output: 'I love JavaScript!'\n"
   ]
  },
  {
   "cell_type": "markdown",
   "metadata": {},
   "source": [
    "### 5. zfill() — Zero Padding"
   ]
  },
  {
   "cell_type": "code",
   "execution_count": 6,
   "metadata": {},
   "outputs": [
    {
     "name": "stdout",
     "output_type": "stream",
     "text": [
      "00042\n"
     ]
    }
   ],
   "source": [
    "num = \"42\"\n",
    "print(num.zfill(5))  # Output: '00042'\n"
   ]
  },
  {
   "cell_type": "markdown",
   "metadata": {},
   "source": [
    "## **Summary Table for Quick Reference**\n",
    "\n",
    "| **Method**      | **Description**                             | **Example**                                |\n",
    "|-----------------|---------------------------------------------|---------------------------------------------|\n",
    "| `split()`         | Splits a string into a list.                | `\"a,b,c\".split(\",\") → ['a', 'b', 'c']`    |\n",
    "| `strip()`         | Removes spaces (or characters) at both ends. | `\"  hello  \".strip() → 'hello'`             |\n",
    "| `lstrip()`         | Removes leading spaces/characters.         | `\"  hello\".lstrip() → 'hello'`               |\n",
    "| `rstrip()`         | Removes trailing spaces/characters.        | `\"hello  \".rstrip() → 'hello'`               |\n",
    "| `join()`           | Joins list elements with a separator.       | `\", \".join(['a', 'b']) → 'a, b'`             |\n",
    "| `replace()`        | Replaces a substring with another.          | `\"apple\".replace('a', 'A') → 'Apple'`        |\n",
    "| `find()`           | Returns the index of the first occurrence.  | `\"hello\".find('l') → 2`                     |\n",
    "| `startswith()`     | Checks if string starts with specified text. | `\"hello\".startswith('he') → True`             |\n",
    "| `endswith()`       | Checks if string ends with specified text.   | `\"hello\".endswith('lo') → True`               |\n",
    "| `capitalize()`     | Capitalizes the first letter.               | `\"python\".capitalize() → 'Python'`            |\n",
    "| `title()`          | Capitalizes the first letter of each word.   | `\"python code\".title() → 'Python Code'`        |\n",
    "| `upper()`          | Converts string to uppercase.               | `\"hello\".upper() → 'HELLO'`                   |\n",
    "| `lower()`          | Converts string to lowercase.               | `\"HELLO\".lower() → 'hello'`                   |\n",
    "| `count()`          | Counts occurrences of a substring.          | `\"banana\".count('a') → 3`                     |\n",
    "| `zfill()`          | Pads the string with zeros on the left.     | `\"42\".zfill(5) → '00042'`                     |"
   ]
  },
  {
   "cell_type": "markdown",
   "metadata": {},
   "source": []
  }
 ],
 "metadata": {
  "kernelspec": {
   "display_name": "Python 3",
   "language": "python",
   "name": "python3"
  },
  "language_info": {
   "codemirror_mode": {
    "name": "ipython",
    "version": 3
   },
   "file_extension": ".py",
   "mimetype": "text/x-python",
   "name": "python",
   "nbconvert_exporter": "python",
   "pygments_lexer": "ipython3",
   "version": "3.12.0"
  }
 },
 "nbformat": 4,
 "nbformat_minor": 2
}
